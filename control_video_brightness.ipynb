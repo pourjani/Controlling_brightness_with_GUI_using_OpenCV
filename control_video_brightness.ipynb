{
 "cells": [
  {
   "cell_type": "code",
   "execution_count": 10,
   "id": "2ad8faf6-a06a-481c-a58d-c7ad6b51af8b",
   "metadata": {},
   "outputs": [
    {
     "ename": "error",
     "evalue": "OpenCV(4.11.0) D:\\a\\opencv-python\\opencv-python\\opencv\\modules\\highgui\\src\\window_w32.cpp:2564: error: (-27:Null pointer) NULL window: 'Brightness Control' in function 'cvGetTrackbarPos'\n",
     "output_type": "error",
     "traceback": [
      "\u001b[31m---------------------------------------------------------------------------\u001b[39m",
      "\u001b[31merror\u001b[39m                                     Traceback (most recent call last)",
      "\u001b[36mCell\u001b[39m\u001b[36m \u001b[39m\u001b[32mIn[10]\u001b[39m\u001b[32m, line 36\u001b[39m\n\u001b[32m     33\u001b[39m     \u001b[38;5;28;01mbreak\u001b[39;00m\n\u001b[32m     35\u001b[39m \u001b[38;5;66;03m# Safely get brightness slider value\u001b[39;00m\n\u001b[32m---> \u001b[39m\u001b[32m36\u001b[39m bright = \u001b[43mcv2\u001b[49m\u001b[43m.\u001b[49m\u001b[43mgetTrackbarPos\u001b[49m\u001b[43m(\u001b[49m\u001b[33;43m'\u001b[39;49m\u001b[33;43mBrightness\u001b[39;49m\u001b[33;43m'\u001b[39;49m\u001b[43m,\u001b[49m\u001b[43m \u001b[49m\u001b[33;43m'\u001b[39;49m\u001b[33;43mBrightness Control\u001b[39;49m\u001b[33;43m'\u001b[39;49m\u001b[43m)\u001b[49m\n\u001b[32m     38\u001b[39m \u001b[38;5;66;03m# Apply brightness adjustment\u001b[39;00m\n\u001b[32m     39\u001b[39m img_ctrl = brightness_ctrl(frame, bright)\n",
      "\u001b[31merror\u001b[39m: OpenCV(4.11.0) D:\\a\\opencv-python\\opencv-python\\opencv\\modules\\highgui\\src\\window_w32.cpp:2564: error: (-27:Null pointer) NULL window: 'Brightness Control' in function 'cvGetTrackbarPos'\n"
     ]
    }
   ],
   "source": [
    "import cv2\n",
    "import numpy as np\n",
    "\n",
    "\n",
    "def nothing(x):\n",
    "    pass\n",
    "\n",
    "def brightness_ctrl(img, bright):\n",
    "    bar = bright - 127\n",
    "    if bar >= 0:\n",
    "        value = np.ones_like(img, dtype='uint8') * bar\n",
    "        img_ctrl = cv2.add(img, value)\n",
    "    else:\n",
    "        value = np.ones_like(img, dtype='uint8') * (-bar)\n",
    "        img_ctrl = cv2.subtract(img, value)\n",
    "    return img_ctrl\n",
    "\n",
    "   \n",
    "\n",
    "cap = cv2.VideoCapture('./images/clip.mp4')\n",
    "\n",
    "# Check if video opened successfully\n",
    "if not cap.isOpened():\n",
    "    print(\"Error: Could not open video.\")\n",
    "    exit()\n",
    "\n",
    "cv2.namedWindow('Brightness Control')\n",
    "cv2.createTrackbar('Brightness', 'Brightness Control', 127, 255, nothing)\n",
    "\n",
    "while True:\n",
    "    ret, frame = cap.read()\n",
    "    if not ret:\n",
    "        break\n",
    "\n",
    "    # Safely get brightness slider value\n",
    "    bright = cv2.getTrackbarPos('Brightness', 'Brightness Control')\n",
    "\n",
    "    # Apply brightness adjustment\n",
    "    img_ctrl = brightness_ctrl(frame, bright)\n",
    "\n",
    "    # Show the result\n",
    "    cv2.imshow('Brightness Control', img_ctrl)\n",
    "\n",
    "    if cv2.waitKey(20) == 27:  # Press ESC to exit\n",
    "        break\n",
    "\n",
    "cap.release()\n",
    "cv2.destroyAllWindows()\n"
   ]
  }
 ],
 "metadata": {
  "kernelspec": {
   "display_name": "Python 3 (ipykernel)",
   "language": "python",
   "name": "python3"
  },
  "language_info": {
   "codemirror_mode": {
    "name": "ipython",
    "version": 3
   },
   "file_extension": ".py",
   "mimetype": "text/x-python",
   "name": "python",
   "nbconvert_exporter": "python",
   "pygments_lexer": "ipython3",
   "version": "3.13.3"
  }
 },
 "nbformat": 4,
 "nbformat_minor": 5
}
